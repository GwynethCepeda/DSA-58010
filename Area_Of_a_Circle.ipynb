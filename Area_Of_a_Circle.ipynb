{
  "nbformat": 4,
  "nbformat_minor": 0,
  "metadata": {
    "colab": {
      "name": "Area_Of_a_Circle.ipynb",
      "provenance": [],
      "authorship_tag": "ABX9TyMja7I19y7/xujAxWgcoczL",
      "include_colab_link": true
    },
    "kernelspec": {
      "name": "python3",
      "display_name": "Python 3"
    },
    "language_info": {
      "name": "python"
    }
  },
  "cells": [
    {
      "cell_type": "markdown",
      "metadata": {
        "id": "view-in-github",
        "colab_type": "text"
      },
      "source": [
        "<a href=\"https://colab.research.google.com/github/GwynethCepeda/DSA-58010/blob/main/Area_Of_a_Circle.ipynb\" target=\"_parent\"><img src=\"https://colab.research.google.com/assets/colab-badge.svg\" alt=\"Open In Colab\"/></a>"
      ]
    },
    {
      "cell_type": "code",
      "execution_count": 15,
      "metadata": {
        "colab": {
          "base_uri": "https://localhost:8080/"
        },
        "id": "5uQ_WFwhTcU1",
        "outputId": "e53605c6-ccb0-4ebc-8e56-e80648c07f3a"
      },
      "outputs": [
        {
          "output_type": "stream",
          "name": "stdout",
          "text": [
            "Enter the radius of a circle:15\n",
            "The area of a circle = 706.50\n"
          ]
        }
      ],
      "source": [
        "PI = 3.14\n",
        "r = int(input(\"Enter the radius of a circle:\"))\n",
        "area = PI * r * r\n",
        "print(\"The area of a circle = %.2f\" %area)"
      ]
    },
    {
      "cell_type": "code",
      "source": [
        "dia=int(input(\"Enter the diameter of a circle:\"))\n",
        "PI= 3.14 \n",
        "D=PI * dia * dia/4\n",
        "print(D)"
      ],
      "metadata": {
        "colab": {
          "base_uri": "https://localhost:8080/"
        },
        "id": "j4wMfIUxZCX5",
        "outputId": "f973847a-298d-45e5-a2bb-51f67d85b949"
      },
      "execution_count": 14,
      "outputs": [
        {
          "output_type": "stream",
          "name": "stdout",
          "text": [
            "Enter the diameter of a circle:30\n",
            "706.5\n"
          ]
        }
      ]
    }
  ]
}