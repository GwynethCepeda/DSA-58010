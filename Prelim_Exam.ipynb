{
  "nbformat": 4,
  "nbformat_minor": 0,
  "metadata": {
    "colab": {
      "provenance": [],
      "authorship_tag": "ABX9TyMRNsnbgEHbQt/QypCAmCkj",
      "include_colab_link": true
    },
    "kernelspec": {
      "name": "python3",
      "display_name": "Python 3"
    },
    "language_info": {
      "name": "python"
    }
  },
  "cells": [
    {
      "cell_type": "markdown",
      "metadata": {
        "id": "view-in-github",
        "colab_type": "text"
      },
      "source": [
        "<a href=\"https://colab.research.google.com/github/GwynethCepeda/DSA-58010/blob/main/Prelim_Exam.ipynb\" target=\"_parent\"><img src=\"https://colab.research.google.com/assets/colab-badge.svg\" alt=\"Open In Colab\"/></a>"
      ]
    },
    {
      "cell_type": "markdown",
      "source": [
        "# **Array**"
      ],
      "metadata": {
        "id": "PmFMjyDwNlei"
      }
    },
    {
      "cell_type": "code",
      "source": [
        "arrlist = [1,2,3,4,5,6,7,8,9,10]\n",
        "print(\"A =\",arrlist)\n",
        "\n",
        "even = np.array([1, 2, 3, 4, 5, 6, 7, 8, 9, 10])\n",
        "\n",
        "print(\"The No. of Even Numbers is\")\n",
        "for i in range(len(even)):\n",
        "    if (even[i] % 2 == 0):\n",
        "        print(even[i], end = \"  \")"
      ],
      "metadata": {
        "colab": {
          "base_uri": "https://localhost:8080/"
        },
        "id": "C9Y87-VeX3vZ",
        "outputId": "425f3dd2-7ad8-4d48-84f8-cce87d9a5585"
      },
      "execution_count": 21,
      "outputs": [
        {
          "output_type": "stream",
          "name": "stdout",
          "text": [
            "A = [1, 2, 3, 4, 5, 6, 7, 8, 9, 10]\n",
            "The No. of Even Numbers is\n",
            "2  4  6  8  10  "
          ]
        }
      ]
    }
  ]
}