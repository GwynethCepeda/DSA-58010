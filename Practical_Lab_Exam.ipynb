{
  "nbformat": 4,
  "nbformat_minor": 0,
  "metadata": {
    "colab": {
      "name": "Practical Lab Exam.ipynb",
      "provenance": [],
      "authorship_tag": "ABX9TyMmzvpWhY6ySa9wXib+MdBs",
      "include_colab_link": true
    },
    "kernelspec": {
      "name": "python3",
      "display_name": "Python 3"
    },
    "language_info": {
      "name": "python"
    }
  },
  "cells": [
    {
      "cell_type": "markdown",
      "metadata": {
        "id": "view-in-github",
        "colab_type": "text"
      },
      "source": [
        "<a href=\"https://colab.research.google.com/github/GwynethCepeda/DSA-58010/blob/main/Practical_Lab_Exam.ipynb\" target=\"_parent\"><img src=\"https://colab.research.google.com/assets/colab-badge.svg\" alt=\"Open In Colab\"/></a>"
      ]
    },
    {
      "cell_type": "code",
      "execution_count": 25,
      "metadata": {
        "colab": {
          "base_uri": "https://localhost:8080/"
        },
        "id": "RsEpFTwgcBHi",
        "outputId": "2c0a338f-6a19-4203-98b4-3b0838d41bdb"
      },
      "outputs": [
        {
          "output_type": "stream",
          "name": "stdout",
          "text": [
            "Enter the total number you want to input:6\n",
            "Input the value:26\n",
            "Input the value:49\n",
            "Input the value:98\n",
            "Input the value:87\n",
            "Input the value:62\n",
            "Input the value:75\n",
            "Total of even number is: 186\n"
          ]
        }
      ],
      "source": [
        "num=[]\n",
        "sum=0\n",
        "n=int(input(\"Enter the total number you want to input:\"))\n",
        "for i in range(1,n+1):\n",
        "    val=int(input(\"Input the value:\"))\n",
        "    num.append(val)\n",
        "\n",
        "for r in range(n):\n",
        "  if(num[r] % 2 == 0):\n",
        "    sum= sum+num [r]\n",
        "\n",
        "print(\"Total of even number is:\",sum)"
      ]
    },
    {
      "cell_type": "markdown",
      "source": [
        "**ALGORITHM**\n",
        "\n",
        "1.  Start\n",
        "2.  Create list\n",
        "3.  sum = 0\n",
        "4.  Enter the total number of input\n",
        "5.  Input the value in loop i\n",
        "6.  To know if odd or even in loop r\n",
        "7.  if even then add the total value, else odd will terminate.\n",
        "8.  stop\n",
        "\n",
        "\n",
        "\n",
        "\n",
        "\n"
      ],
      "metadata": {
        "id": "WjHEynBNovV_"
      }
    }
  ]
}