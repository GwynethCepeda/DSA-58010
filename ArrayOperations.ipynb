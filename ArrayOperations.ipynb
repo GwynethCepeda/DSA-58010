{
  "nbformat": 4,
  "nbformat_minor": 0,
  "metadata": {
    "colab": {
      "name": "ArrayOperations.ipynb",
      "provenance": [],
      "authorship_tag": "ABX9TyNBrIAk1GTzclCAX1UJuto9",
      "include_colab_link": true
    },
    "kernelspec": {
      "name": "python3",
      "display_name": "Python 3"
    },
    "language_info": {
      "name": "python"
    }
  },
  "cells": [
    {
      "cell_type": "markdown",
      "metadata": {
        "id": "view-in-github",
        "colab_type": "text"
      },
      "source": [
        "<a href=\"https://colab.research.google.com/github/GwynethCepeda/DSA-58010/blob/main/ArrayOperations.ipynb\" target=\"_parent\"><img src=\"https://colab.research.google.com/assets/colab-badge.svg\" alt=\"Open In Colab\"/></a>"
      ]
    },
    {
      "cell_type": "code",
      "execution_count": null,
      "metadata": {
        "colab": {
          "base_uri": "https://localhost:8080/"
        },
        "id": "NLbPrS-ej7De",
        "outputId": "479dc172-9bd8-4818-bb6a-b227abff657b"
      },
      "outputs": [
        {
          "output_type": "stream",
          "name": "stdout",
          "text": [
            "[1, 2, 3]\n"
          ]
        }
      ],
      "source": [
        "#creating an arrey of number elements \n",
        "\n",
        "\n",
        "num = [1,2,3] #3x3 matrix\n",
        "print(num)"
      ]
    },
    {
      "cell_type": "code",
      "source": [
        "#looping\n",
        "animals = [\"dog\",\"cat\",\"bunny\"] #3x3 matrix\n",
        "for x in animals:\n",
        "    print(x)"
      ],
      "metadata": {
        "colab": {
          "base_uri": "https://localhost:8080/"
        },
        "id": "pK4Z_HNNkGzd",
        "outputId": "42415e7a-66a5-4185-a8c3-54d8d3ec4409"
      },
      "execution_count": null,
      "outputs": [
        {
          "output_type": "stream",
          "name": "stdout",
          "text": [
            "dog\n",
            "cat\n",
            "bunny\n"
          ]
        }
      ]
    },
    {
      "cell_type": "code",
      "source": [
        "#looping breaking\n",
        "animals = [\"dog\",\"cat\",\"bunny\"] #3x3 matrix\n",
        "for x in animals:\n",
        "  print(x)\n",
        "  if x==\"cat\":\n",
        "    break"
      ],
      "metadata": {
        "colab": {
          "base_uri": "https://localhost:8080/"
        },
        "id": "jIhx4hL6kKbG",
        "outputId": "e4521113-853a-4e1f-a403-b12fd588492c"
      },
      "execution_count": null,
      "outputs": [
        {
          "output_type": "stream",
          "name": "stdout",
          "text": [
            "dog\n",
            "cat\n"
          ]
        }
      ]
    },
    {
      "cell_type": "code",
      "source": [
        "animals = [\"dog\",\"cat\",\"bunny\"]\n",
        "x=animals [2]\n",
        "y=animals [1]\n",
        "print(x)\n",
        "print(y)"
      ],
      "metadata": {
        "colab": {
          "base_uri": "https://localhost:8080/"
        },
        "id": "61ubCPE6kOC4",
        "outputId": "97101736-0eb2-45c5-d230-548519f61ae6"
      },
      "execution_count": null,
      "outputs": [
        {
          "output_type": "stream",
          "name": "stdout",
          "text": [
            "bunny\n",
            "cat\n"
          ]
        }
      ]
    },
    {
      "cell_type": "code",
      "source": [
        "#modifying\n",
        "animals = [\"dog\",\"cat\",\"bunny\"]\n",
        "animals[0]= \"bird\"\n",
        "print (animals)"
      ],
      "metadata": {
        "colab": {
          "base_uri": "https://localhost:8080/"
        },
        "id": "ragE349zkiMq",
        "outputId": "325e89cb-ac7c-44ff-bd99-12d369c653aa"
      },
      "execution_count": null,
      "outputs": [
        {
          "output_type": "stream",
          "name": "stdout",
          "text": [
            "['bird', 'cat', 'bunny']\n"
          ]
        }
      ]
    },
    {
      "cell_type": "code",
      "source": [
        "#inserting array elements \n",
        "animals = [\"dog\",\"cat\",\"bunny\"]\n",
        "animals.append(\"monkey\")\n",
        "print (animals)"
      ],
      "metadata": {
        "colab": {
          "base_uri": "https://localhost:8080/"
        },
        "id": "feqYzebAkn2z",
        "outputId": "e4c3140a-e4d8-4f24-ac19-9c6f001e2f7d"
      },
      "execution_count": null,
      "outputs": [
        {
          "output_type": "stream",
          "name": "stdout",
          "text": [
            "['dog', 'cat', 'bunny', 'monkey']\n"
          ]
        }
      ]
    },
    {
      "cell_type": "code",
      "source": [
        "#removing\n",
        "animals = [\"dog\",\"cat\",\"bunny\"]\n",
        "animals.pop(2)\n",
        "animals.pop(1)\n",
        "print(animals)"
      ],
      "metadata": {
        "colab": {
          "base_uri": "https://localhost:8080/"
        },
        "id": "YQrVT74CkwFk",
        "outputId": "c8a717d9-228d-43c4-cc9d-a61d0bea0132"
      },
      "execution_count": null,
      "outputs": [
        {
          "output_type": "stream",
          "name": "stdout",
          "text": [
            "['dog']\n"
          ]
        }
      ]
    },
    {
      "cell_type": "code",
      "source": [
        "#lenght of the array\n",
        "animals = [\"dog\",\"cat\",\"bunny\"]\n",
        "x=len(animals)\n",
        "print(animals)"
      ],
      "metadata": {
        "colab": {
          "base_uri": "https://localhost:8080/"
        },
        "id": "imm3WTVMk3mJ",
        "outputId": "573adf0d-f999-4d55-e6ac-43920b5bb159"
      },
      "execution_count": null,
      "outputs": [
        {
          "output_type": "stream",
          "name": "stdout",
          "text": [
            "['dog', 'cat', 'bunny']\n"
          ]
        }
      ]
    },
    {
      "cell_type": "code",
      "source": [
        "import numpy as np\n",
        "num = np.array([[1,2],[3,4]])   \n",
        "print (num)"
      ],
      "metadata": {
        "colab": {
          "base_uri": "https://localhost:8080/"
        },
        "id": "H4CR4FOgk9Dm",
        "outputId": "0e8d4776-9645-4b9a-f23a-35ccd99ce8f3"
      },
      "execution_count": null,
      "outputs": [
        {
          "output_type": "stream",
          "name": "stdout",
          "text": [
            "[[1 2]\n",
            " [3 4]]\n"
          ]
        }
      ]
    }
  ]
}