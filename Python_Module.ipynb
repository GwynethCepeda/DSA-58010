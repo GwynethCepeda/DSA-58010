{
  "nbformat": 4,
  "nbformat_minor": 0,
  "metadata": {
    "colab": {
      "provenance": [],
      "authorship_tag": "ABX9TyMJ+pbH0GSS42cN6r+Pc2RE",
      "include_colab_link": true
    },
    "kernelspec": {
      "name": "python3",
      "display_name": "Python 3"
    },
    "language_info": {
      "name": "python"
    }
  },
  "cells": [
    {
      "cell_type": "markdown",
      "metadata": {
        "id": "view-in-github",
        "colab_type": "text"
      },
      "source": [
        "<a href=\"https://colab.research.google.com/github/GwynethCepeda/DSA-58010/blob/main/Python_Module.ipynb\" target=\"_parent\"><img src=\"https://colab.research.google.com/assets/colab-badge.svg\" alt=\"Open In Colab\"/></a>"
      ]
    },
    {
      "cell_type": "markdown",
      "source": [
        "### **Example 1**"
      ],
      "metadata": {
        "id": "OrXfO8GFTxRD"
      }
    },
    {
      "cell_type": "code",
      "source": [
        "import array\n",
        "array.typecodes #get all typecodes\n",
        "a=array.array('i', [1,2,3,4,5,6]) #initialize array a\n",
        "b=array.array('f', [1.5,2.5,3.5,4.5,5.5,6.5]) #initialize array b\n",
        "print(a.typecode) #getting the typecode of a\n",
        "print(b.typecode) #getting the typecode of b"
      ],
      "metadata": {
        "colab": {
          "base_uri": "https://localhost:8080/"
        },
        "id": "AupqbOS8T3EL",
        "outputId": "4a2ddbee-0272-49a0-fd0b-0177e3d79944"
      },
      "execution_count": null,
      "outputs": [
        {
          "output_type": "stream",
          "name": "stdout",
          "text": [
            "i\n",
            "f\n"
          ]
        }
      ]
    },
    {
      "cell_type": "markdown",
      "source": [
        "### **Example 2**"
      ],
      "metadata": {
        "id": "hV--NmeKUA8y"
      }
    },
    {
      "cell_type": "code",
      "source": [
        "A = array.array('f', [1,2,3,4,5,6])\n",
        "print(A)"
      ],
      "metadata": {
        "colab": {
          "base_uri": "https://localhost:8080/"
        },
        "id": "f5czYqPdUFqa",
        "outputId": "9a581c57-c95b-4e37-ba28-dfee71165921"
      },
      "execution_count": null,
      "outputs": [
        {
          "output_type": "stream",
          "name": "stdout",
          "text": [
            "array('f', [1.0, 2.0, 3.0, 4.0, 5.0, 6.0])\n"
          ]
        }
      ]
    },
    {
      "cell_type": "markdown",
      "source": [
        "**Output of the codes**"
      ],
      "metadata": {
        "id": "IUgAT79mUIfc"
      }
    },
    {
      "cell_type": "code",
      "source": [
        "import array #importing array from array module\n",
        "a=array.array('i',[4,5,6,7]) #initializing array a\n",
        "b=array.array('i',[1,2,3]) #initializing array b\n",
        "a.insert(1,2) #inserting element: 2 at index: 1\n",
        "print(a) #Printing array a\n",
        "#array('i',[4,2,5,6,7])\n",
        "a.insert(-1,0) #insert element: 0 at index\n",
        "print(a)\n",
        "a.insert(6,8) #insert element: -1 at index: 10, this is out of range\n",
        "print(a)\n",
        "b[0] = 5\n",
        "b[1] = 4\n",
        "b[2] = 3\n",
        "print(b)"
      ],
      "metadata": {
        "colab": {
          "base_uri": "https://localhost:8080/"
        },
        "id": "5R5LfGxXULfq",
        "outputId": "f7f38b58-37df-4d3b-84d3-8ef5f9b42a2c"
      },
      "execution_count": null,
      "outputs": [
        {
          "output_type": "stream",
          "name": "stdout",
          "text": [
            "array('i', [4, 2, 5, 6, 7])\n",
            "array('i', [4, 2, 5, 6, 0, 7])\n",
            "array('i', [4, 2, 5, 6, 0, 7, 8])\n",
            "array('i', [5, 4, 3])\n"
          ]
        }
      ]
    },
    {
      "cell_type": "markdown",
      "source": [
        "### **Example 3**"
      ],
      "metadata": {
        "id": "Nj9hT25SUp9e"
      }
    },
    {
      "cell_type": "code",
      "source": [
        "class Node:\n",
        "  def __init__(self,data):\n",
        "    self.data = data    # assign data\n",
        "    self.next = None    # initialize as null\n",
        "\n",
        "#function that creates Linked-list object\n",
        "\n",
        "class LinkedList:\n",
        "  def __init(self):\n",
        "    self.head = None   #initialize head as null\n",
        "\n",
        "  def printList (self):\n",
        "    temp = self.head\n",
        "    while(temp != None):\n",
        "      print(temp.data)\n",
        "      temp = temp.next\n",
        "\n",
        "list = LinkedList()   #empty list\n",
        "list.head = Node(1)\n",
        "second = Node(2)\n",
        "third = Node(3)\n",
        "fourth = Node(4)\n",
        "fifth = Node(5)\n",
        "\n",
        "list.head.next = second\n",
        "second.next = third\n",
        "third.next = fourth\n",
        "fourth.next = fifth\n",
        "\n",
        "list.printList()"
      ],
      "metadata": {
        "colab": {
          "base_uri": "https://localhost:8080/"
        },
        "id": "v-1XX1E5Uuym",
        "outputId": "cfed0912-5269-4863-9981-683c652b4638"
      },
      "execution_count": null,
      "outputs": [
        {
          "output_type": "stream",
          "name": "stdout",
          "text": [
            "1\n",
            "2\n",
            "3\n",
            "4\n",
            "5\n"
          ]
        }
      ]
    }
  ]
}