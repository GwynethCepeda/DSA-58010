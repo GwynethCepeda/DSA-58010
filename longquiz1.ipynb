{
  "nbformat": 4,
  "nbformat_minor": 0,
  "metadata": {
    "colab": {
      "provenance": [],
      "authorship_tag": "ABX9TyPno3ATGbv6OwcDL7LIVWiO",
      "include_colab_link": true
    },
    "kernelspec": {
      "name": "python3",
      "display_name": "Python 3"
    },
    "language_info": {
      "name": "python"
    }
  },
  "cells": [
    {
      "cell_type": "markdown",
      "metadata": {
        "id": "view-in-github",
        "colab_type": "text"
      },
      "source": [
        "<a href=\"https://colab.research.google.com/github/GwynethCepeda/DSA-58010/blob/main/longquiz1.ipynb\" target=\"_parent\"><img src=\"https://colab.research.google.com/assets/colab-badge.svg\" alt=\"Open In Colab\"/></a>"
      ]
    },
    {
      "cell_type": "markdown",
      "source": [
        "# **Array**"
      ],
      "metadata": {
        "id": "yIPIxvUDTNFn"
      }
    },
    {
      "cell_type": "code",
      "source": [
        "arr = [\"Cepeda\", \"Gwyneth\", \"Botones\"]\n",
        "print(\"Name:\", arr)\n",
        "\n",
        "res = arr [::-1];\n",
        "\n",
        "print(\"Reversed:\",res)"
      ],
      "metadata": {
        "colab": {
          "base_uri": "https://localhost:8080/"
        },
        "id": "0S0bDL99T9gm",
        "outputId": "87c256d3-ca94-4665-a5fa-9871ce87a619"
      },
      "execution_count": 2,
      "outputs": [
        {
          "output_type": "stream",
          "name": "stdout",
          "text": [
            "Name: ['Cepeda', 'Gwyneth', 'Botones']\n",
            "Reversed: ['Botones', 'Gwyneth', 'Cepeda']\n"
          ]
        }
      ]
    }
  ]
}